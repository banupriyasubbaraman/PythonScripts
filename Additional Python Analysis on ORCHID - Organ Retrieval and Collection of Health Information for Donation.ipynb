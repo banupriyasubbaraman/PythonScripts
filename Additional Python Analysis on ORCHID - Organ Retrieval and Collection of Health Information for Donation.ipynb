{
 "cells": [
  {
   "cell_type": "code",
   "execution_count": 1,
   "metadata": {},
   "outputs": [],
   "source": [
    "import numpy as np\n",
    "import pandas as pd\n",
    "import warnings\n",
    "warnings.simplefilter(\"ignore\")"
   ]
  },
  {
   "cell_type": "code",
   "execution_count": 2,
   "metadata": {},
   "outputs": [],
   "source": [
    "file = pd.ExcelFile(r\"C:\\Users\\OrganDonor_Consolidated.xlsx\")\n",
    "donor = pd.read_excel(file,'DonorDetails')\n",
    "referral = pd.read_excel(file,\"ReferralDetails\")\n",
    "outcomes = pd.read_excel(file,\"Outcomes\")\n",
    "opo_hosp = pd.read_excel(file,'OPO_HospDetails')\n",
    "yearly = pd.read_excel(file,\"Yearly_Outcomes\")"
   ]
  },
  {
   "cell_type": "markdown",
   "metadata": {},
   "source": [
    "# 1. which mechanism of death or cause of death causes more brain deaths"
   ]
  },
  {
   "cell_type": "code",
   "execution_count": 3,
   "metadata": {},
   "outputs": [
    {
     "name": "stdout",
     "output_type": "stream",
     "text": [
      "Mechanism of Death with Most Brain Deaths:\n",
      "           mechanism_of_death  Brain Death Count\n",
      "15                     Stroke               3694\n",
      "2              Cardiovascular               2266\n",
      "1                Blunt Injury               2052\n",
      "5           Drug Intoxication               1129\n",
      "7              Gun Shot Wound                730\n",
      "0                Asphyxiation                554\n",
      "9              Natural Causes                458\n",
      "10          None of the Above                350\n",
      "8               Gunshot Wound                170\n",
      "4                    Drowning                140\n",
      "17                    Unknown                110\n",
      "13                    Seizure                109\n",
      "3   Death from Natural Causes                109\n",
      "14                       Stab                 22\n",
      "6                  Electrical                 12\n",
      "12                      Other                 12\n",
      "16        Sudden Infant Death                  9\n",
      "11          None of the above                  5\n",
      "\n",
      "Cause of Death with Most Brain Deaths:\n",
      "                      causeofdeath  Brain Death Count\n",
      "2                           Anoxia               4261\n",
      "49        cerebrovascular accident               3027\n",
      "11                     Head Trauma               2716\n",
      "37                          Stroke                627\n",
      "5                   Cardiac Arrest                196\n",
      "45                          Trauma                151\n",
      "21                           Other                112\n",
      "23                        Overdose                 83\n",
      "10                             GSW                 82\n",
      "52                           other                 80\n",
      "48      cerebral vascular accident                 67\n",
      "46                         Unknown                 59\n",
      "3                        CNS Tumor                 54\n",
      "12  Infectious Disease - Bacterial                 46\n",
      "33                             SAH                 44\n",
      "7                    Drug Overdose                 38\n",
      "40                        TR - GSW                 38\n",
      "15         Intracranial Hemorrhage                 34\n",
      "41                        TR - MVA                 33\n",
      "32             Respiratory - Other                 32\n",
      "35                          Sepsis                 22\n",
      "6                         Drowning                 21\n",
      "22                  Other, specify                 16\n",
      "19           Myocardial infarction                 10\n",
      "43                      TR - other                  9\n",
      "13      Infectious Disease - Other                  7\n",
      "29                     RES - other                  5\n",
      "9                   Exsanguination                  5\n",
      "14      Infectious Disease - Viral                  5\n",
      "34                         Seizure                  4\n",
      "24                       Pneumonia                  4\n",
      "8                             ESLD                  4\n",
      "39   TR - CHI - Closed Head Injury                  4\n",
      "47                   asphyixiation                  3\n",
      "20                  Natural Causes                  3\n",
      "25              Pulmonary embolism                  3\n",
      "16           Liver Disease/Failure                  2\n",
      "36                    Septic Shock                  2\n",
      "18            Multi-system failure                  2\n",
      "50                        drowning                  2\n",
      "51                         hanging                  2\n",
      "4                           Cancer                  2\n",
      "26                      RES - COPD                  2\n",
      "53                smoke inhalation                  1\n",
      "0                             AIDS                  1\n",
      "27                RES - aspiration                  1\n",
      "44        Thoracic aortic aneurysm                  1\n",
      "42                      TR - burns                  1\n",
      "38    Sudden infant death syndrome                  1\n",
      "31                  Renal  Disease                  1\n",
      "30                 RES - pneumonia                  1\n",
      "28                    RES - asthma                  1\n",
      "1                         Aneurysm                  1\n",
      "17                      Meningitis                  1\n",
      "54        thoracic aortic aneurysm                  1\n",
      "\n",
      "Comparison:\n",
      "The cause of death 'Anoxia' caused the most brain deaths with a count of 4261.\n"
     ]
    }
   ],
   "source": [
    "filtered_donor = donor[donor['brain_death'] == 1]\n",
    "\n",
    "# Group by mechanism_of_death and count occurrences\n",
    "mechanism_counts = (\n",
    "    filtered_donor.groupby('mechanism_of_death')\n",
    "    .size()\n",
    "    .reset_index(name='Brain Death Count')\n",
    "    .sort_values(by='Brain Death Count', ascending=False)\n",
    ")\n",
    "\n",
    "# Group by causeofdeath and count occurrences\n",
    "cause_counts = (\n",
    "    filtered_donor.groupby('causeofdeath')\n",
    "    .size()\n",
    "    .reset_index(name='Brain Death Count')\n",
    "    .sort_values(by='Brain Death Count', ascending=False)\n",
    ")\n",
    "\n",
    "# Display results\n",
    "print(\"Mechanism of Death with Most Brain Deaths:\")\n",
    "print(mechanism_counts)\n",
    "\n",
    "print(\"\\nCause of Death with Most Brain Deaths:\")\n",
    "print(cause_counts)\n",
    "\n",
    "# Compare the highest counts from both groups\n",
    "highest_mechanism = mechanism_counts.iloc[0]\n",
    "highest_cause = cause_counts.iloc[0]\n",
    "\n",
    "print(\"\\nComparison:\")\n",
    "if highest_mechanism['Brain Death Count'] > highest_cause['Brain Death Count']:\n",
    "    print(\n",
    "        f\"The mechanism of death '{highest_mechanism['mechanism_of_death']}' \"\n",
    "        f\"caused the most brain deaths with a count of {highest_mechanism['Brain Death Count']}.\"\n",
    "    )\n",
    "elif highest_cause['Brain Death Count'] > highest_mechanism['Brain Death Count']:\n",
    "    print(\n",
    "        f\"The cause of death '{highest_cause['causeofdeath']}' \"\n",
    "        f\"caused the most brain deaths with a count of {highest_cause['Brain Death Count']}.\"\n",
    "    )\n",
    "else:\n",
    "    print(\n",
    "        f\"Both the mechanism of death '{highest_mechanism['mechanism_of_death']}' \"\n",
    "        f\"and the cause of death '{highest_cause['causeofdeath']}' \"\n",
    "        f\"have the same highest brain death count of {highest_mechanism['Brain Death Count']}.\"\n",
    "    )\n",
    "\n"
   ]
  },
  {
   "cell_type": "markdown",
   "metadata": {},
   "source": [
    "# 2. which hospital recorded max num of brain deaths"
   ]
  },
  {
   "cell_type": "code",
   "execution_count": 4,
   "metadata": {},
   "outputs": [
    {
     "name": "stdout",
     "output_type": "stream",
     "text": [
      "List of Hospitals sorted based on number of Brain Deaths:\n",
      "      HospitalID  BrainDeathCount\n",
      "334  OPO6_H22175              390\n",
      "270  OPO5_H10831              345\n",
      "52   OPO1_H27265              327\n",
      "291   OPO5_H1925              315\n",
      "154   OPO3_H4291              297\n",
      "..           ...              ...\n",
      "21   OPO1_H20007                1\n",
      "167  OPO4_H10855                1\n",
      "20   OPO1_H19921                1\n",
      "162   OPO3_H9271                1\n",
      "298   OPO5_H4502                1\n",
      "\n",
      "[350 rows x 2 columns]\n",
      "Hospital(s) with the Maximum number of Brain Deaths:\n",
      "      HospitalID  BrainDeathCount\n",
      "334  OPO6_H22175              390\n"
     ]
    }
   ],
   "source": [
    "# Merge Donor and Hospital sheet\n",
    "merged_data = pd.merge(donor, opo_hosp, on=\"PatientID\", how=\"inner\")\n",
    "\n",
    "# Get the list of Brain dead \n",
    "filtered_donor = merged_data[merged_data['brain_death'] == 1]\n",
    "\n",
    "# Group by hospital id to get based on hospitals\n",
    "Brain_Death_counts = filtered_donor.groupby('HospitalID').size().reset_index(name='BrainDeathCount')\n",
    "\n",
    "#sort the count in descending order to show all the list of hospitals having brain dead\n",
    "Brain_Death_counts_sorted = Brain_Death_counts.sort_values(by='BrainDeathCount', ascending=False)\n",
    "\n",
    "# Print the sorted result\n",
    "print(\"List of Hospitals sorted based on number of Brain Deaths:\")\n",
    "print(Brain_Death_counts_sorted)\n",
    "\n",
    "#Getting the Hospital wih Maximum count of Brain death\n",
    "max_count = Brain_Death_counts['BrainDeathCount'].max()\n",
    "\n",
    "# Filter rows with the maximum count\n",
    "hospitals_with_max_count = Brain_Death_counts[Brain_Death_counts['BrainDeathCount'] == max_count]\n",
    "\n",
    "# Display the result.... The Answer shows all hospitals with Maximum number of Brain Deaths\n",
    "print(\"Hospital(s) with the Maximum number of Brain Deaths:\")\n",
    "print(hospitals_with_max_count)"
   ]
  },
  {
   "cell_type": "markdown",
   "metadata": {},
   "source": [
    "# 3. Max number of males donated which organ and same with females"
   ]
  },
  {
   "cell_type": "code",
   "execution_count": 5,
   "metadata": {},
   "outputs": [
    {
     "name": "stdout",
     "output_type": "stream",
     "text": [
      "Male Results:\n",
      "   gender  Count         Organ\n",
      "5       M   4494   kidney_left\n",
      "7       M   4467  kidney_right\n",
      "3       M   4316         liver\n",
      "1       M   2106         heart\n",
      "9       M   1284     lung_left\n",
      "11      M   1274    lung_right\n",
      "15      M    642      pancreas\n",
      "13      M     49     intestine\n",
      "Female Results:\n",
      "   gender  Count         Organ\n",
      "2       F   2698         liver\n",
      "4       F   2590   kidney_left\n",
      "6       F   2585  kidney_right\n",
      "0       F    881         heart\n",
      "8       F    862     lung_left\n",
      "10      F    853    lung_right\n",
      "14      F    250      pancreas\n",
      "12      F     36     intestine\n",
      "Max number of males donated organ:\n",
      "  gender  Count        Organ\n",
      "5      M   4494  kidney_left\n",
      "Max number of females donated organ:\n",
      "  gender  Count  Organ\n",
      "2      F   2698  liver\n"
     ]
    }
   ],
   "source": [
    "#Merging the donor and outcomes sheet\n",
    "merged_don_out = pd.merge(donor, outcomes, on=\"PatientID\", how=\"inner\")\n",
    "\n",
    "# Getting the list of organs as columns\n",
    "organ_columns = [col for col in merged_don_out.columns if col.startswith('outcome_')]\n",
    "\n",
    "# Create a new DataFrame to store results for each organ type\n",
    "organ_gender_counts = []\n",
    "\n",
    "# Iterate through each organ column\n",
    "for organ in organ_columns:\n",
    "    # Filter rows where the transplant occurred for this organ\n",
    "    organ_transplants = merged_don_out[merged_don_out[organ] == 'Transplanted']\n",
    "    \n",
    "    # Group by gender and count occurrences\n",
    "    organ_gender_count = organ_transplants.groupby('gender').size().reset_index(name='Count')\n",
    "    \n",
    "    # Add the organ type column\n",
    "    organ_gender_count['Organ'] = organ.replace('outcome_', '')  # Strip 'outcome_' from the column name\n",
    "    \n",
    "    # Append to the list\n",
    "    organ_gender_counts.append(organ_gender_count)\n",
    "\n",
    "# Concatenate all results into a single DataFrame\n",
    "organ_gender_counts_df1 = pd.concat(organ_gender_counts, ignore_index=True)\n",
    "\n",
    "# Sort by 'Count' in descending order\n",
    "organ_gender_counts_df1 = organ_gender_counts_df1.sort_values(by='Count', ascending=False)\n",
    "\n",
    "# Separate the results for each gender\n",
    "male_results = organ_gender_counts_df1[organ_gender_counts_df1['gender'] == 'M']\n",
    "female_results = organ_gender_counts_df1[organ_gender_counts_df1['gender'] == 'F']\n",
    "\n",
    "# Display the result for Male\n",
    "print(\"Male Results:\")\n",
    "print(male_results)\n",
    "\n",
    "# Display the result for Female\n",
    "print(\"Female Results:\")\n",
    "print(female_results)\n",
    "\n",
    "#Getting the Gender Maximum count of organs transplanted\n",
    "male_max_count = male_results['Count'].max()\n",
    "female_max_count = female_results['Count'].max()\n",
    "\n",
    "# Filter rows with the maximum count\n",
    "Organ_Gender_with_male_max_count = organ_gender_counts_df1[organ_gender_counts_df1['Count'] == male_max_count]\n",
    "Organ_Gender_with_female_max_count = organ_gender_counts_df1[organ_gender_counts_df1['Count'] == female_max_count]\n",
    "\n",
    "# Display the result.... \n",
    "print(\"Max number of males donated organ:\")\n",
    "print(Organ_Gender_with_male_max_count )\n",
    "\n",
    "print(\"Max number of females donated organ:\")\n",
    "print(Organ_Gender_with_female_max_count )"
   ]
  },
  {
   "cell_type": "markdown",
   "metadata": {},
   "source": [
    "# 4. Create a Python function that filters the records where the referral_time falls within a specific date range (e.g., between October 2028 to December 2028)."
   ]
  },
  {
   "cell_type": "code",
   "execution_count": 8,
   "metadata": {},
   "outputs": [
    {
     "name": "stdout",
     "output_type": "stream",
     "text": [
      "           PatientID  Approached Relatives  Authorized By Family  \\\n",
      "1206    OPO1_P427408                     1                     1   \n",
      "1268    OPO1_P466695                     0                     0   \n",
      "1282    OPO1_P443842                     1                     1   \n",
      "3017    OPO1_P592531                     0                     0   \n",
      "3652    OPO1_P180417                     0                     0   \n",
      "...              ...                   ...                   ...   \n",
      "131325  OPO6_P273109                     0                     0   \n",
      "131418  OPO6_P974781                     0                     0   \n",
      "131698  OPO6_P397649                     0                     0   \n",
      "132649  OPO6_P863421                     0                     0   \n",
      "133021  OPO6_P434091                     0                     0   \n",
      "\n",
      "        Cross_Clamped  transplanted  Tissue_Referral  Eye_Referral  \\\n",
      "1206                1             1                1             1   \n",
      "1268                0             0                0             0   \n",
      "1282                0             0                1             1   \n",
      "3017                0             0                1             1   \n",
      "3652                0             0                1             1   \n",
      "...               ...           ...              ...           ...   \n",
      "131325              0             0                1             1   \n",
      "131418              0             0                1             1   \n",
      "131698              0             0                1             1   \n",
      "132649              0             0                1             1   \n",
      "133021              0             0                1             1   \n",
      "\n",
      "                 time_referred     time_approached     time_authorized  \\\n",
      "1206   2028-12-09 20:03:56.620 2028-12-10 05:28:00 2028-12-10 05:28:00   \n",
      "1268   2028-10-23 00:46:00.000                 NaT                 NaT   \n",
      "1282   2028-12-09 06:22:25.207 2028-12-09 19:03:00 2028-12-09 19:03:00   \n",
      "3017   2028-11-30 17:29:00.000                 NaT                 NaT   \n",
      "3652   2028-12-13 19:33:00.000                 NaT                 NaT   \n",
      "...                        ...                 ...                 ...   \n",
      "131325 2028-12-01 19:33:00.000                 NaT                 NaT   \n",
      "131418 2028-10-15 08:16:00.000                 NaT                 NaT   \n",
      "131698 2028-12-06 19:07:00.000                 NaT                 NaT   \n",
      "132649 2028-12-14 03:25:00.000                 NaT                 NaT   \n",
      "133021 2028-11-20 11:08:00.000                 NaT                 NaT   \n",
      "\n",
      "             time_procured Referral_DayofWeek  Referral_Year  Procured_Year  \n",
      "1206   2028-12-11 09:12:00           Thursday           2015         2015.0  \n",
      "1268                   NaT           Thursday           2015            NaN  \n",
      "1282                   NaT             Monday           2015            NaN  \n",
      "3017                   NaT           Thursday           2015            NaN  \n",
      "3652                   NaT             Monday           2015            NaN  \n",
      "...                    ...                ...            ...            ...  \n",
      "131325                 NaT             Sunday           2015            NaN  \n",
      "131418                 NaT             Monday           2015            NaN  \n",
      "131698                 NaT           Saturday           2015            NaN  \n",
      "132649                 NaT             Sunday           2015            NaN  \n",
      "133021                 NaT          Wednesday           2015            NaN  \n",
      "\n",
      "[232 rows x 14 columns]\n"
     ]
    }
   ],
   "source": [
    "def filter_by_date_range(referral, starting, ending, date_column='time_referred'):\n",
    "\n",
    "    # Filter rows where the date is within the specified range\n",
    "    filtered_df1 = referral[(referral[date_column] >= pd.to_datetime(starting)) & (referral[date_column] <= pd.to_datetime(ending))]\n",
    "\n",
    "    return filtered_df1\n",
    "\n",
    "# Define date range for filtering\n",
    "starting = '2028-10-01'\n",
    "ending = '2028-12-31'\n",
    "\n",
    "# Call the function\n",
    "filtered_donors = filter_by_date_range(referral, starting, ending)\n",
    "\n",
    "# Display the filtered results\n",
    "print(filtered_donors)"
   ]
  },
  {
   "cell_type": "markdown",
   "metadata": {},
   "source": [
    "# 5. Write a Python script that identifies and displays any duplicate donor records, and then creates a new DataFrame that includes only the most recent referral.\n"
   ]
  },
  {
   "cell_type": "code",
   "execution_count": 9,
   "metadata": {},
   "outputs": [
    {
     "name": "stdout",
     "output_type": "stream",
     "text": [
      "No duplicate donor records found.\n",
      "Most Recent Donor Records (Selected Columns):\n",
      "           PatientID           time_referred\n",
      "31900     OPO1_P1000 2033-06-21 22:45:30.263\n",
      "17805   OPO1_P100009 2034-08-11 15:01:25.340\n",
      "24490    OPO1_P10004 2036-04-13 00:02:01.093\n",
      "6171    OPO1_P100071 2036-05-10 15:33:33.273\n",
      "414     OPO1_P100077 2035-09-05 12:33:33.140\n",
      "...              ...                     ...\n",
      "127847  OPO6_P999867 2031-12-30 19:50:00.000\n",
      "114449  OPO6_P999884 2032-01-05 12:52:00.000\n",
      "118306  OPO6_P999899 2034-07-01 05:07:00.000\n",
      "115631  OPO6_P999923 2031-09-20 09:06:00.000\n",
      "111268   OPO6_P99994 2030-08-23 05:14:00.000\n",
      "\n",
      "[133101 rows x 2 columns]\n"
     ]
    }
   ],
   "source": [
    "def filter_duplicates_and_keep_most_recent(df, donor_id_column='PatientID', date_column='time_referred'):\n",
    "   \n",
    "    # Sort the DataFrame by donor_id_column and date_column (descending to get most recent referrals first)\n",
    "    df_sorted = referral.sort_values(by=[donor_id_column, date_column], ascending=[True, False])\n",
    "\n",
    "    # Identify duplicate rows based on the donor_id_column (keep the first occurrence, which is the most recent due to sorting)\n",
    "    df_no_duplicates = df_sorted.drop_duplicates(subset=[donor_id_column], keep='first')\n",
    "\n",
    "    # Display duplicate records (if any)\n",
    "    duplicates = referral[referral.duplicated(subset=[donor_id_column], keep=False)]\n",
    "    if not duplicates.empty:\n",
    "        print(\"Duplicate Donor Records Found:\")\n",
    "        print(duplicates)\n",
    "    else:\n",
    "        print(\"No duplicate donor records found.\")\n",
    "\n",
    "    # Return the DataFrame with the most recent referral for each donor\n",
    "    return df_no_duplicates\n",
    "\n",
    "# Call the function\n",
    "most_recent_donors = filter_duplicates_and_keep_most_recent(referral, donor_id_column='PatientID', date_column='time_referred')\n",
    "\n",
    "# Display only selected columns from the most recent donor records\n",
    "selected_columns = ['PatientID', 'time_referred']  # List the columns you want to display\n",
    "\n",
    "# Display the result with selected columns\n",
    "print(\"Most Recent Donor Records (Selected Columns):\")\n",
    "print(most_recent_donors[selected_columns])"
   ]
  },
  {
   "cell_type": "markdown",
   "metadata": {},
   "source": [
    "# 6. Provide the number of donors by each day"
   ]
  },
  {
   "cell_type": "code",
   "execution_count": 11,
   "metadata": {},
   "outputs": [
    {
     "name": "stdout",
     "output_type": "stream",
     "text": [
      "Donor Count by Day of the Week:\n",
      "  Day of Week  Patient Count\n",
      "0      Monday          19451\n",
      "1     Tuesday          19623\n",
      "2   Wednesday          19421\n",
      "3    Thursday          18900\n",
      "4      Friday          19346\n",
      "5    Saturday          18077\n",
      "6      Sunday          18283\n"
     ]
    }
   ],
   "source": [
    "# Group by 'Referral_DayofWeek' and count the occurrences of 'PatientID'\n",
    "day_of_week_patient_count = referral.groupby('Referral_DayofWeek')['PatientID'].count().reset_index(name='Patient Count')\n",
    "\n",
    "# Sort the days of the week in the correct order (Monday to Sunday)\n",
    "days_order = ['Monday', 'Tuesday', 'Wednesday', 'Thursday', 'Friday', 'Saturday', 'Sunday']\n",
    "day_of_week_patient_count = day_of_week_patient_count.set_index('Referral_DayofWeek').reindex(days_order).reset_index()\n",
    "\n",
    "# Rename columns for clarity\n",
    "day_of_week_patient_count.columns = ['Day of Week', 'Patient Count']\n",
    "\n",
    "# Display the result\n",
    "print(\"Donor Count by Day of the Week:\")\n",
    "print(day_of_week_patient_count)"
   ]
  },
  {
   "cell_type": "markdown",
   "metadata": {},
   "source": [
    "# 7. What is the ratio of Eye donations to Tissue donations?"
   ]
  },
  {
   "cell_type": "code",
   "execution_count": 12,
   "metadata": {},
   "outputs": [
    {
     "name": "stdout",
     "output_type": "stream",
     "text": [
      "Eye Donations: 97015\n",
      "Tissue Donations: 97545\n",
      "Ratio of Eye Donations to Tissue Donations: 1.0\n"
     ]
    }
   ],
   "source": [
    "# Count the number of rows where Eye_Referral and Tissue_Referral are 1\n",
    "donor_eye_count = referral[referral['Eye_Referral'] == 1].shape[0]\n",
    "donor_tissue_count = referral[referral['Tissue_Referral'] == 1].shape[0]\n",
    "\n",
    "if donor_tissue_count != 0:  # Prevent division by zero\n",
    "    Tissue_eye_Ratio = donor_eye_count / donor_tissue_count\n",
    "    if not np.isnan(Tissue_eye_Ratio):\n",
    "        Tissue_eye_Ratio = round(Tissue_eye_Ratio, 1)\n",
    "    else:\n",
    "        Tissue_eye_Ratio = None  # Handle NaN results\n",
    "else:\n",
    "    Tissue_eye_Ratio = None  # Handle division by zero or other issues\n",
    "\n",
    "# Display the result\n",
    "print(f\"Eye Donations: {donor_eye_count}\")\n",
    "print(f\"Tissue Donations: {donor_tissue_count}\")\n",
    "print(f\"Ratio of Eye Donations to Tissue Donations: {Tissue_eye_Ratio}\")"
   ]
  },
  {
   "cell_type": "markdown",
   "metadata": {},
   "source": [
    "# 8. How many were cross clamped and Transplanted for each organ type?"
   ]
  },
  {
   "cell_type": "code",
   "execution_count": 14,
   "metadata": {},
   "outputs": [
    {
     "name": "stdout",
     "output_type": "stream",
     "text": [
      "Count of Cross_Clamped and transplanted by organs:\n",
      "          Organ   cross clamped and Transplanted Count\n",
      "0         heart                                   2987\n",
      "1         liver                                   7014\n",
      "2   kidney_left                                   7084\n",
      "3  kidney_right                                   7051\n",
      "4     lung_left                                   2146\n",
      "5    lung_right                                   2127\n",
      "6     intestine                                     85\n",
      "7      pancreas                                    892\n"
     ]
    }
   ],
   "source": [
    "# Merging the referral and outcomes sheet\n",
    "merged_ref_out = pd.merge(referral, outcomes, on=\"PatientID\", how=\"inner\")\n",
    "\n",
    "# Identify organ columns that start with 'outcome_'\n",
    "organ_columns = [col for col in merged_ref_out.columns if col.startswith('outcome_')]\n",
    "\n",
    "# Filter rows where Cross_Clamped = 1 and transplanted = 1\n",
    "filtered_rows = merged_ref_out[(merged_ref_out['transplanted'] == 1) & (merged_ref_out['Cross_Clamped'] == 1)]\n",
    "\n",
    "# Initialize a list to store counts for each organ\n",
    "organ_grouped = []\n",
    "\n",
    "# Loop through each organ column and count unique PatientID and transplanted for each organ\n",
    "for organ in organ_columns:\n",
    "    # Filter for rows where the organ was transplanted (value == 1)\n",
    "    organ_transplants = filtered_rows[filtered_rows[organ] == 'Transplanted']\n",
    "    \n",
    "    # Count unique PatientID values (i.e., the number of transplants for that organ)\n",
    "    organ_count = organ_transplants['PatientID'].nunique()  # Count unique PatientID\n",
    "    \n",
    "    # Append the organ name (without 'outcome_' prefix) and count to the list\n",
    "    organ_grouped.append([organ.replace('outcome_', ''), organ_count])\n",
    "\n",
    "# Convert the result into a DataFrame\n",
    "organ_grouped_df = pd.DataFrame(organ_grouped, columns=['Organ', ' cross clamped and Transplanted Count'])\n",
    "\n",
    "# Display the grouped results\n",
    "print(\"Count of Cross_Clamped and transplanted by organs:\")\n",
    "print(organ_grouped_df)"
   ]
  },
  {
   "cell_type": "markdown",
   "metadata": {},
   "source": [
    "# 9. Are there any donors who are not cross-clamped for organ procurement but transplanted their organs. if so which organ(s)?"
   ]
  },
  {
   "cell_type": "code",
   "execution_count": 13,
   "metadata": {},
   "outputs": [
    {
     "name": "stdout",
     "output_type": "stream",
     "text": [
      "Donor(s) who are not Cross_Clamped but transplanted their organs:\n",
      "         PatientID  Cross_Clamped  transplanted outcome_kidney_right\n",
      "1718  OPO1_P188776              0             1         Transplanted\n"
     ]
    }
   ],
   "source": [
    "# Merging the referral and outcomes sheet\n",
    "merged_ref_out = pd.merge(referral, outcomes, on=\"PatientID\", how=\"inner\")\n",
    "\n",
    "# Filter rows where Cross_Clamped = 0 and transplanted = 1\n",
    "filtered_rows = merged_ref_out[(merged_ref_out['transplanted'] == 1) & (merged_ref_out['Cross_Clamped'] == 0)]\n",
    "\n",
    "# Display the filtered rows\n",
    "#print(\"Rows where Cross_Clamped = 0 and Transplanted = 1:\")\n",
    "#print(filtered_rows)\n",
    "\n",
    "# Select specific columns to display\n",
    "selected_columns = filtered_rows[['PatientID', 'Cross_Clamped', 'transplanted', 'outcome_kidney_right']]\n",
    "\n",
    "# Display the filtered data with selected columns\n",
    "print(\"Donor(s) who are not Cross_Clamped but transplanted their organs:\")\n",
    "print(selected_columns)"
   ]
  },
  {
   "cell_type": "markdown",
   "metadata": {},
   "source": [
    "# 10. Are there any donors who are not Authorized By Family but still transplanted?"
   ]
  },
  {
   "cell_type": "code",
   "execution_count": 15,
   "metadata": {},
   "outputs": [
    {
     "name": "stdout",
     "output_type": "stream",
     "text": [
      "Donor(s) who are not authorized but got Transplanted:\n",
      "          PatientID  Authorized By Family  transplanted\n",
      "20119  OPO1_P188776                     0             1\n"
     ]
    }
   ],
   "source": [
    "# Filter rows where 'Authorized By Family' == 0 and 'transplanted' == 1\n",
    "referral_rows = referral[(referral['Authorized By Family'] == 0) & (referral['transplanted'] == 1)]\n",
    "\n",
    "# Select specific columns to display\n",
    "selected_columns = referral_rows[['PatientID', 'Authorized By Family', 'transplanted']]\n",
    "\n",
    "# Display the filtered data with selected columns\n",
    "print(\"Donor(s) who are not authorized but got Transplanted:\")\n",
    "print(selected_columns)"
   ]
  }
 ],
 "metadata": {
  "kernelspec": {
   "display_name": "Python 3",
   "language": "python",
   "name": "python3"
  },
  "language_info": {
   "codemirror_mode": {
    "name": "ipython",
    "version": 3
   },
   "file_extension": ".py",
   "mimetype": "text/x-python",
   "name": "python",
   "nbconvert_exporter": "python",
   "pygments_lexer": "ipython3",
   "version": "3.7.6"
  }
 },
 "nbformat": 4,
 "nbformat_minor": 5
}
